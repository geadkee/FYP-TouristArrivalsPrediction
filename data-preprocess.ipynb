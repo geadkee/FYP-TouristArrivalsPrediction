{
 "cells": [
  {
   "cell_type": "markdown",
   "metadata": {},
   "source": [
    "# Pre-Processing of MY & TH data"
   ]
  },
  {
   "cell_type": "code",
   "execution_count": 143,
   "metadata": {},
   "outputs": [],
   "source": [
    "import csv\n",
    "import sys\n",
    "import os\n",
    "import pandas as pd\n",
    "import numpy as np\n",
    "from datetime import datetime\n",
    "\n",
    "import string\n",
    "from googletrans import Translator"
   ]
  },
  {
   "cell_type": "markdown",
   "metadata": {},
   "source": [
    "## Translation of Thailand's 2016-2019 data "
   ]
  },
  {
   "cell_type": "code",
   "execution_count": null,
   "metadata": {},
   "outputs": [],
   "source": [
    "print(sys.executable)\n",
    "os.chdir(r\"C:\\Users\\ggk\\FYP-TouristArrivalsPrediction\\dataset\")\n",
    "# load the dataset\n",
    "data10to16 = pd.read_csv(r\"thaitourism2.csv\")\n",
    "data10to16.head(20)\n",
    "\n",
    "data16to19 = pd.read_excel(r\"Summary of the number of foreign tourists in 2016 - 2019.xlsx\")\n",
    "data16to19.head(20)"
   ]
  },
  {
   "cell_type": "code",
   "execution_count": 136,
   "metadata": {},
   "outputs": [
    {
     "data": {
      "text/plain": [
       "48"
      ]
     },
     "execution_count": 136,
     "metadata": {},
     "output_type": "execute_result"
    }
   ],
   "source": [
    "y = [2019, 2018, 2017, 2016]\n",
    "year = []\n",
    "for ye in y:\n",
    "    for i in range(12):\n",
    "        year.append(ye)\n",
    "\n",
    "len(year)"
   ]
  },
  {
   "cell_type": "code",
   "execution_count": 137,
   "metadata": {},
   "outputs": [
    {
     "data": {
      "text/plain": [
       "48"
      ]
     },
     "execution_count": 137,
     "metadata": {},
     "output_type": "execute_result"
    }
   ],
   "source": [
    "month = []\n",
    "for i in range(4):\n",
    "    for m in data16to19.iloc[2:14, 0]:\n",
    "        month.append(m)\n",
    "\n",
    "len(month)"
   ]
  },
  {
   "cell_type": "code",
   "execution_count": null,
   "metadata": {},
   "outputs": [],
   "source": [
    "arrivals = []\n",
    "for i in range(4):\n",
    "    for a in data16to19.iloc[2:14, i+1]:\n",
    "        print(a)\n",
    "        arrivals.append(a)"
   ]
  },
  {
   "cell_type": "code",
   "execution_count": null,
   "metadata": {},
   "outputs": [],
   "source": [
    "tdf = pd.DataFrame({'Year': year, 'Month': month, 'Arrivals': arrivals})\n",
    "tdf['Month'] = tdf['Month'].apply(lambda x: datetime.strptime(x, '%B').month)\n",
    "tdf"
   ]
  },
  {
   "cell_type": "markdown",
   "metadata": {},
   "source": [
    "### Removal of irrelevant data 2010-2016"
   ]
  },
  {
   "cell_type": "code",
   "execution_count": null,
   "metadata": {},
   "outputs": [],
   "source": [
    "data10to16['yeMon'] = data10to16['year'].map(str) + '-' + data10to16['month'].map(str)\n",
    "data10to16"
   ]
  },
  {
   "cell_type": "code",
   "execution_count": null,
   "metadata": {},
   "outputs": [],
   "source": [
    "len(pd.unique(data10to16[\"nationality\"]))\n",
    "fdf = data10to16.drop([\"region\", \"nationality\"], axis=1)\n",
    "fdf"
   ]
  },
  {
   "cell_type": "code",
   "execution_count": null,
   "metadata": {},
   "outputs": [],
   "source": [
    "fdff = fdf.groupby(by=\"yeMon\")[\"tourists\"].sum()\n",
    "adf = pd.DataFrame(fdff)\n",
    "adf"
   ]
  },
  {
   "cell_type": "code",
   "execution_count": null,
   "metadata": {},
   "outputs": [],
   "source": [
    "#Export the DataFrame to CSV file\n",
    "adf.to_csv('test')\n",
    "\n",
    "#Print the Pandas DataFrame that is exported\n",
    "f=pd.read_csv('test')\n",
    "f\n"
   ]
  },
  {
   "cell_type": "code",
   "execution_count": 220,
   "metadata": {},
   "outputs": [
    {
     "data": {
      "text/html": [
       "<div>\n",
       "<style scoped>\n",
       "    .dataframe tbody tr th:only-of-type {\n",
       "        vertical-align: middle;\n",
       "    }\n",
       "\n",
       "    .dataframe tbody tr th {\n",
       "        vertical-align: top;\n",
       "    }\n",
       "\n",
       "    .dataframe thead th {\n",
       "        text-align: right;\n",
       "    }\n",
       "</style>\n",
       "<table border=\"1\" class=\"dataframe\">\n",
       "  <thead>\n",
       "    <tr style=\"text-align: right;\">\n",
       "      <th></th>\n",
       "      <th>tourists</th>\n",
       "      <th>Year</th>\n",
       "      <th>Month</th>\n",
       "    </tr>\n",
       "  </thead>\n",
       "  <tbody>\n",
       "    <tr>\n",
       "      <th>0</th>\n",
       "      <td>1605505</td>\n",
       "      <td>2010</td>\n",
       "      <td>1</td>\n",
       "    </tr>\n",
       "    <tr>\n",
       "      <th>1</th>\n",
       "      <td>1316806</td>\n",
       "      <td>2010</td>\n",
       "      <td>10</td>\n",
       "    </tr>\n",
       "    <tr>\n",
       "      <th>2</th>\n",
       "      <td>1478856</td>\n",
       "      <td>2010</td>\n",
       "      <td>11</td>\n",
       "    </tr>\n",
       "    <tr>\n",
       "      <th>3</th>\n",
       "      <td>1819751</td>\n",
       "      <td>2010</td>\n",
       "      <td>12</td>\n",
       "    </tr>\n",
       "    <tr>\n",
       "      <th>4</th>\n",
       "      <td>1614844</td>\n",
       "      <td>2010</td>\n",
       "      <td>2</td>\n",
       "    </tr>\n",
       "    <tr>\n",
       "      <th>...</th>\n",
       "      <td>...</td>\n",
       "      <td>...</td>\n",
       "      <td>...</td>\n",
       "    </tr>\n",
       "    <tr>\n",
       "      <th>79</th>\n",
       "      <td>2476505</td>\n",
       "      <td>2016</td>\n",
       "      <td>5</td>\n",
       "    </tr>\n",
       "    <tr>\n",
       "      <th>80</th>\n",
       "      <td>2433255</td>\n",
       "      <td>2016</td>\n",
       "      <td>6</td>\n",
       "    </tr>\n",
       "    <tr>\n",
       "      <th>81</th>\n",
       "      <td>2946286</td>\n",
       "      <td>2016</td>\n",
       "      <td>7</td>\n",
       "    </tr>\n",
       "    <tr>\n",
       "      <th>82</th>\n",
       "      <td>2874420</td>\n",
       "      <td>2016</td>\n",
       "      <td>8</td>\n",
       "    </tr>\n",
       "    <tr>\n",
       "      <th>83</th>\n",
       "      <td>2407572</td>\n",
       "      <td>2016</td>\n",
       "      <td>9</td>\n",
       "    </tr>\n",
       "  </tbody>\n",
       "</table>\n",
       "<p>84 rows × 3 columns</p>\n",
       "</div>"
      ],
      "text/plain": [
       "    tourists  Year Month\n",
       "0    1605505  2010     1\n",
       "1    1316806  2010    10\n",
       "2    1478856  2010    11\n",
       "3    1819751  2010    12\n",
       "4    1614844  2010     2\n",
       "..       ...   ...   ...\n",
       "79   2476505  2016     5\n",
       "80   2433255  2016     6\n",
       "81   2946286  2016     7\n",
       "82   2874420  2016     8\n",
       "83   2407572  2016     9\n",
       "\n",
       "[84 rows x 3 columns]"
      ]
     },
     "execution_count": 220,
     "metadata": {},
     "output_type": "execute_result"
    }
   ],
   "source": [
    "f['Year'] = f['yeMon'].str.slice(start=0, stop=4)\n",
    "f['Month'] = f['yeMon'].str.slice(start=5)\n",
    "l = f.drop([\"yeMon\"], axis=1)\n",
    "l"
   ]
  },
  {
   "cell_type": "code",
   "execution_count": 222,
   "metadata": {},
   "outputs": [],
   "source": [
    "tdf.to_excel(\"2016-2019.xlsx\")\n",
    "l.to_excel(\"2010-2016.xlsx\")"
   ]
  },
  {
   "cell_type": "code",
   "execution_count": 141,
   "metadata": {},
   "outputs": [
    {
     "name": "stdout",
     "output_type": "stream",
     "text": [
      "original nan\n",
      "still ori nan\n",
      "original Number (persons)\n",
      "still ori Number (persons)\n",
      "original nan\n",
      "still ori nan\n",
      "original nan\n",
      "still ori nan\n",
      "original nan\n",
      "still ori nan\n",
      "original  %CH (Y-o-Y)\n",
      "still ori  %CH (Y-o-Y)\n",
      "original nan\n",
      "still ori nan\n",
      "original nan\n",
      "still ori nan\n"
     ]
    }
   ],
   "source": [
    "translator = Translator()\n",
    "# with open(\"C:/Users/ggk/FYP-TouristArrivalsPrediction/dataset/tourist2016-2019.xlsx\", \"r\", encoding=\"TIS-620\") as file:\n",
    "  # csvreader = pd.read_excel(file)\n",
    "for row in data16to19.iloc[0]:\n",
    "  print(\"original\", row)\n",
    "  try:\n",
    "    tranRow = translator.translate(row[0], dest=\"en\")\n",
    "    print(\"trans\", tranRow)\n",
    "  except:\n",
    "    print(\"still ori\", row)"
   ]
  },
  {
   "cell_type": "markdown",
   "metadata": {},
   "source": [
    "## Transformation of Malaysia"
   ]
  },
  {
   "cell_type": "code",
   "execution_count": null,
   "metadata": {},
   "outputs": [],
   "source": [
    "data10to16 = pd.read_csv(r\"thaitourism2.csv\")\n",
    "data10to16.head(20)"
   ]
  }
 ],
 "metadata": {
  "kernelspec": {
   "display_name": "wordcloud",
   "language": "python",
   "name": "python3"
  },
  "language_info": {
   "codemirror_mode": {
    "name": "ipython",
    "version": 3
   },
   "file_extension": ".py",
   "mimetype": "text/x-python",
   "name": "python",
   "nbconvert_exporter": "python",
   "pygments_lexer": "ipython3",
   "version": "3.9.16"
  },
  "orig_nbformat": 4
 },
 "nbformat": 4,
 "nbformat_minor": 2
}
